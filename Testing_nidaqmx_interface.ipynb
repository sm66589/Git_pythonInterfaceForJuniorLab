{
 "cells": [
  {
   "cell_type": "code",
   "execution_count": 38,
   "id": "8ebdbaaa",
   "metadata": {},
   "outputs": [],
   "source": [
    "import nidaqmx as ni\n",
    "import nidaqmx.constants as cst"
   ]
  },
  {
   "cell_type": "code",
   "execution_count": 46,
   "id": "e79e0ced",
   "metadata": {},
   "outputs": [
    {
     "data": {
      "text/plain": [
       "[0.3110350664631215,\n",
       " 0.10269178804757291,\n",
       " 0.01217930351471815,\n",
       " -0.11536102378431978,\n",
       " -0.05874957375250018,\n",
       " -0.011024806786149663]"
      ]
     },
     "execution_count": 46,
     "metadata": {},
     "output_type": "execute_result"
    }
   ],
   "source": [
    "task = ni.Task()\n",
    "task.ai_channels.add_ai_voltage_chan(\"Dev1/ai0:5\")\n",
    "task.read()\n"
   ]
  },
  {
   "cell_type": "code",
   "execution_count": 47,
   "id": "ddae0845",
   "metadata": {},
   "outputs": [
    {
     "data": {
      "text/plain": [
       "True"
      ]
     },
     "execution_count": 47,
     "metadata": {},
     "output_type": "execute_result"
    }
   ],
   "source": [
    "task.is_task_done()"
   ]
  },
  {
   "cell_type": "code",
   "execution_count": 48,
   "id": "4869983f",
   "metadata": {},
   "outputs": [
    {
     "data": {
      "text/plain": [
       "1"
      ]
     },
     "execution_count": 48,
     "metadata": {},
     "output_type": "execute_result"
    }
   ],
   "source": [
    "task.number_of_devices"
   ]
  },
  {
   "cell_type": "code",
   "execution_count": 49,
   "id": "b9a82865",
   "metadata": {},
   "outputs": [
    {
     "data": {
      "text/plain": [
       "6"
      ]
     },
     "execution_count": 49,
     "metadata": {},
     "output_type": "execute_result"
    }
   ],
   "source": [
    "task.number_of_channels"
   ]
  },
  {
   "cell_type": "code",
   "execution_count": null,
   "id": "816e5c40",
   "metadata": {},
   "outputs": [],
   "source": []
  }
 ],
 "metadata": {
  "kernelspec": {
   "display_name": "Python 3",
   "language": "python",
   "name": "python3"
  },
  "language_info": {
   "codemirror_mode": {
    "name": "ipython",
    "version": 3
   },
   "file_extension": ".py",
   "mimetype": "text/x-python",
   "name": "python",
   "nbconvert_exporter": "python",
   "pygments_lexer": "ipython3",
   "version": "3.8.8"
  }
 },
 "nbformat": 4,
 "nbformat_minor": 5
}

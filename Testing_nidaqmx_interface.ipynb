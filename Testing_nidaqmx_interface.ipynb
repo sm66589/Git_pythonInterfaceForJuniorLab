{
 "cells": [
  {
   "cell_type": "code",
   "execution_count": 7,
   "id": "8ebdbaaa",
   "metadata": {},
   "outputs": [],
   "source": [
    "import nidaqmx as ni\n",
    "import nidaqmx.constants as cst"
   ]
  },
  {
   "cell_type": "code",
   "execution_count": 8,
   "id": "e79e0ced",
   "metadata": {},
   "outputs": [
    {
     "data": {
      "text/plain": "[1.2729307558947698,\n 1.5027746345769737,\n 0.9510505884965957,\n 0.03826120479769306,\n -0.06134873816615902,\n -0.04126210508808168]"
     },
     "execution_count": 8,
     "metadata": {},
     "output_type": "execute_result"
    }
   ],
   "source": [
    "task = ni.Task()\n",
    "task.ai_channels.add_ai_voltage_chan(\"Dev3/ai0:5\")\n",
    "task.read()\n"
   ]
  },
  {
   "cell_type": "code",
   "execution_count": 9,
   "id": "ddae0845",
   "metadata": {},
   "outputs": [
    {
     "data": {
      "text/plain": "True"
     },
     "execution_count": 9,
     "metadata": {},
     "output_type": "execute_result"
    }
   ],
   "source": [
    "task.is_task_done()"
   ]
  },
  {
   "cell_type": "code",
   "execution_count": 10,
   "id": "4869983f",
   "metadata": {},
   "outputs": [
    {
     "data": {
      "text/plain": "1"
     },
     "execution_count": 10,
     "metadata": {},
     "output_type": "execute_result"
    }
   ],
   "source": [
    "task.number_of_devices"
   ]
  },
  {
   "cell_type": "code",
   "execution_count": 11,
   "id": "b9a82865",
   "metadata": {},
   "outputs": [
    {
     "data": {
      "text/plain": "6"
     },
     "execution_count": 11,
     "metadata": {},
     "output_type": "execute_result"
    }
   ],
   "source": [
    "task.number_of_channels"
   ]
  },
  {
   "cell_type": "code",
   "execution_count": 13,
   "id": "816e5c40",
   "metadata": {
    "pycharm": {
     "name": "#%%\n"
    }
   },
   "outputs": [
    {
     "name": "stdout",
     "output_type": "stream",
     "text": [
      "a\n"
     ]
    }
   ],
   "source": [
    "print(\"a\")"
   ]
  },
  {
   "cell_type": "code",
   "execution_count": null,
   "outputs": [],
   "source": [],
   "metadata": {
    "collapsed": false,
    "pycharm": {
     "name": "#%%\n"
    }
   }
  }
 ],
 "metadata": {
  "kernelspec": {
   "display_name": "Python 3",
   "language": "python",
   "name": "python3"
  },
  "language_info": {
   "codemirror_mode": {
    "name": "ipython",
    "version": 3
   },
   "file_extension": ".py",
   "mimetype": "text/x-python",
   "name": "python",
   "nbconvert_exporter": "python",
   "pygments_lexer": "ipython3",
   "version": "3.8.8"
  }
 },
 "nbformat": 4,
 "nbformat_minor": 5
}